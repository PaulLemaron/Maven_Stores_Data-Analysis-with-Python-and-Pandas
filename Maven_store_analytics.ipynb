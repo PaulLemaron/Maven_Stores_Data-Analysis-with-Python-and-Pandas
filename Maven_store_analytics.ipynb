{
  "nbformat": 4,
  "nbformat_minor": 0,
  "metadata": {
    "colab": {
      "provenance": [],
      "authorship_tag": "ABX9TyN1IzHk78g8S4IZrTY0pBy6",
      "include_colab_link": true
    },
    "kernelspec": {
      "name": "python3",
      "display_name": "Python 3"
    },
    "language_info": {
      "name": "python"
    }
  },
  "cells": [
    {
      "cell_type": "markdown",
      "metadata": {
        "id": "view-in-github",
        "colab_type": "text"
      },
      "source": [
        "<a href=\"https://colab.research.google.com/github/PaulLemaron/Maven_Stores_Data-Analysis-with-Python-and-Pandas/blob/main/Maven_store_analytics.ipynb\" target=\"_parent\"><img src=\"https://colab.research.google.com/assets/colab-badge.svg\" alt=\"Open In Colab\"/></a>"
      ]
    },
    {
      "cell_type": "markdown",
      "source": [
        "# **Data Analysis with Python and Pandas**\n",
        "## **Introducing the course project**\n",
        "You've just been hired as a Data Analyst for Maven MegaMart, a multination\n",
        "corporation that operates a chain of retail and grocery stores. They recently\n",
        "received a sample of data from a new retailer they're looking to acquire, and\n",
        "they need you to identify and deliver key insights about their sales history.\n",
        "## **SITUATION**\n",
        "Your task is to analyze over 2 million transactions by product, household, and\n",
        "store to get a better understanding of the retailer's main strengths.\n",
        "\n",
        "## **ASSIGNMENT**\n",
        "From there, you need to review the company's discount scheme to assess\n",
        "whether they can expect to attract customers without losing margin.\n",
        "Use Python to:\n",
        "1. Read in multiple flat files efficiently\n",
        "2. Join tables to provide a single source of information\n",
        "3. Shape & aggregate sales data to calculate KPIs\n",
        "4.  Visualize the data to communicate your findings\n"
      ],
      "metadata": {
        "id": "-6_vEmusURqK"
      }
    },
    {
      "cell_type": "code",
      "execution_count": null,
      "metadata": {
        "id": "KxvMKvAyUFKe"
      },
      "outputs": [],
      "source": []
    }
  ]
}